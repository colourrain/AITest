{
 "cells": [
  {
   "cell_type": "code",
   "execution_count": 1,
   "id": "36dea884-1600-456d-80ab-88cdc0be0306",
   "metadata": {},
   "outputs": [],
   "source": [
    "# enbedding test\n",
    "from transformers import AutoTokenizer, AutoModel\n",
    "from sentence_transformers.util import cos_sim\n",
    "import torch.nn.functional as F"
   ]
  },
  {
   "cell_type": "code",
   "execution_count": 24,
   "id": "35443b6a-02fa-4622-9056-931ea924dbd5",
   "metadata": {},
   "outputs": [],
   "source": [
    "input_texts=[\n",
    "    \"中国的首都在哪里？\",\n",
    "    \"你喜欢去哪里旅游？\",\n",
    "    \"上海\",\n",
    "    \"今天中午吃什么\"\n",
    "]"
   ]
  },
  {
   "cell_type": "code",
   "execution_count": 25,
   "id": "5d98de62-5cd9-4a7b-8e3a-765af78b8ce4",
   "metadata": {},
   "outputs": [],
   "source": [
    "model_path = '../model/Qwen2.5-0.5B-Instruct/'\n",
    "tokenlizer = AutoTokenizer.from_pretrained(model_path)\n",
    "model = AutoModel.from_pretrained(model_path,device_map=\"cpu\")"
   ]
  },
  {
   "cell_type": "code",
   "execution_count": 26,
   "id": "6a815d1d-dfcc-4e4d-a347-c928193d7697",
   "metadata": {},
   "outputs": [],
   "source": [
    "batch_tokens = tokenlizer(input_texts,\n",
    "                         max_length=30,\n",
    "                         padding=True,\n",
    "                         truncation=True,\n",
    "                         return_tensors=\"pt\")"
   ]
  },
  {
   "cell_type": "code",
   "execution_count": 27,
   "id": "7be93d41-0b9a-4972-b039-91ba10517e1f",
   "metadata": {},
   "outputs": [
    {
     "data": {
      "text/plain": [
       "tensor([113540, 115414,  99790,  11319, 151643])"
      ]
     },
     "execution_count": 27,
     "metadata": {},
     "output_type": "execute_result"
    }
   ],
   "source": [
    "batch_tokens.input_ids[1]"
   ]
  },
  {
   "cell_type": "code",
   "execution_count": 28,
   "id": "49f60140-04e0-4374-a0d6-742024e8cec2",
   "metadata": {},
   "outputs": [],
   "source": [
    "output = model(** batch_tokens)"
   ]
  },
  {
   "cell_type": "code",
   "execution_count": 29,
   "id": "4cabcd12-38ba-4f49-b47e-0e3ce27e87da",
   "metadata": {},
   "outputs": [
    {
     "data": {
      "text/plain": [
       "BaseModelOutputWithPast(last_hidden_state=tensor([[[ -4.4583,  -1.5763,   4.2349,  ...,   1.2038,  -4.1822,   4.3373],\n",
       "         [ -2.1473,   5.0405,  -0.5864,  ...,   1.2574,  -2.5258,  11.6709],\n",
       "         [ -1.3329,  -3.4988,   2.3926,  ...,  -8.5138,   3.0898,  -8.5593],\n",
       "         [ -3.0730,  -1.2178,   1.3683,  ...,  -9.3675,  -2.3741, -12.1517],\n",
       "         [ -0.9667,  -1.7155,   2.2610,  ...,  -8.9641,  -1.8127,  -7.4504]],\n",
       "\n",
       "        [[ -2.2945,   0.3048,   2.7536,  ...,   3.2119,  -0.5059,   2.6514],\n",
       "         [  0.7636,  11.9393,  -1.0057,  ...,  -0.4191,  -8.4093,  -7.5825],\n",
       "         [  0.2322,   9.8163,  -1.0751,  ...,  -3.3775,  -3.2053,  -8.8618],\n",
       "         [  0.8157,   6.8190,   2.2637,  ...,  -2.4609,   0.7596, -15.1735],\n",
       "         [ -1.7423,   2.8333,   2.3439,  ...,   1.3161,   1.3841, -11.4267]],\n",
       "\n",
       "        [[ -0.4300,   3.8735,   6.4584,  ...,   3.2486,  -0.3577,  -2.9830],\n",
       "         [  0.5147,  -0.7468,  -0.9918,  ...,   3.7203,  -4.7462,  -3.4111],\n",
       "         [  0.5147,  -0.7468,  -0.9918,  ...,   3.7203,  -4.7462,  -3.4111],\n",
       "         [  0.5147,  -0.7468,  -0.9918,  ...,   3.7203,  -4.7462,  -3.4111],\n",
       "         [  0.5147,  -0.7468,  -0.9918,  ...,   3.7203,  -4.7462,  -3.4111]],\n",
       "\n",
       "        [[  1.9027,   6.3437,   6.0074,  ...,   4.3497,  -1.6912,  -3.1849],\n",
       "         [ -0.2552,  -4.8799,  -1.8117,  ...,  -1.2402,  -0.7855,  -2.5082],\n",
       "         [ -2.5298,  -1.2362,  -4.3012,  ...,  -3.8994,   0.7112,  -0.3813],\n",
       "         [ -0.5937,  -0.8702,   5.3047,  ...,   3.5180,   1.8146,  -3.0782],\n",
       "         [ -2.1513,   2.6709,   4.7430,  ...,  -0.1325,   0.8797,  -7.0554]]],\n",
       "       grad_fn=<MulBackward0>), past_key_values=<transformers.cache_utils.DynamicCache object at 0x00000252CAA1B9D0>, hidden_states=None, attentions=None)"
      ]
     },
     "execution_count": 29,
     "metadata": {},
     "output_type": "execute_result"
    }
   ],
   "source": [
    "output"
   ]
  },
  {
   "cell_type": "code",
   "execution_count": 30,
   "id": "f65b5e31-d0d9-4824-bf99-9475240dcc38",
   "metadata": {},
   "outputs": [
    {
     "data": {
      "text/plain": [
       "torch.Size([4, 5, 896])"
      ]
     },
     "execution_count": 30,
     "metadata": {},
     "output_type": "execute_result"
    }
   ],
   "source": [
    "output.last_hidden_state.shape"
   ]
  },
  {
   "cell_type": "code",
   "execution_count": 31,
   "id": "1236c0c4-a6c7-4f55-9bb7-2fbc90fd0f38",
   "metadata": {},
   "outputs": [],
   "source": [
    "embeddings = output.last_hidden_state[:,0]"
   ]
  },
  {
   "cell_type": "code",
   "execution_count": 32,
   "id": "6fc56c88-b93c-4829-bfea-dadcd2946583",
   "metadata": {},
   "outputs": [
    {
     "data": {
      "text/plain": [
       "torch.Size([4, 896])"
      ]
     },
     "execution_count": 32,
     "metadata": {},
     "output_type": "execute_result"
    }
   ],
   "source": [
    "embeddings.shape"
   ]
  },
  {
   "cell_type": "code",
   "execution_count": 33,
   "id": "777a5181-3613-4516-8e3d-631d4884347e",
   "metadata": {},
   "outputs": [],
   "source": [
    "embeddings= F.normalize(embeddings, p=2, dim=1)"
   ]
  },
  {
   "cell_type": "code",
   "execution_count": 34,
   "id": "e529eef7-51df-46c2-8c0a-fa6da840cc7e",
   "metadata": {},
   "outputs": [
    {
     "name": "stdout",
     "output_type": "stream",
     "text": [
      "中国的首都在哪里？ 你喜欢去哪里旅游？ tensor([[0.7625]], grad_fn=<MmBackward0>)\n",
      "中国的首都在哪里？ 上海 tensor([[0.8954]], grad_fn=<MmBackward0>)\n",
      "中国的首都在哪里？ 今天中午吃什么 tensor([[0.7764]], grad_fn=<MmBackward0>)\n"
     ]
    }
   ],
   "source": [
    "for i in range(1,4):\n",
    "    print(input_texts[0], input_texts[i], cos_sim(embeddings[0], embeddings[i]))"
   ]
  },
  {
   "cell_type": "code",
   "execution_count": 35,
   "id": "65b28330-82de-4447-ad80-1a0906e32885",
   "metadata": {},
   "outputs": [],
   "source": [
    "# 利用sentence_transformer\n",
    "from sentence_transformers import SentenceTransformer\n",
    "from sentence_transformers.util import cos_sim\n",
    "input_texts=[\n",
    "    \"中国的首都在哪里？\",\n",
    "    \"你喜欢去哪里旅游？\",\n",
    "    \"上海\",\n",
    "    \"今天中午吃什么\"\n",
    "]"
   ]
  },
  {
   "cell_type": "code",
   "execution_count": 36,
   "id": "0a177567-c318-4d5a-b7ca-7eab5132b411",
   "metadata": {},
   "outputs": [
    {
     "name": "stderr",
     "output_type": "stream",
     "text": [
      "No sentence-transformers model found with name ../model/Qwen2.5-0.5B-Instruct/. Creating a new one with mean pooling.\n"
     ]
    }
   ],
   "source": [
    "model2 = SentenceTransformer(model_path)"
   ]
  },
  {
   "cell_type": "code",
   "execution_count": null,
   "id": "1768754a-1562-40da-877e-28d5aae21fc6",
   "metadata": {},
   "outputs": [],
   "source": []
  }
 ],
 "metadata": {
  "kernelspec": {
   "display_name": "bo_kernel",
   "language": "python",
   "name": "bo_kernel"
  },
  "language_info": {
   "codemirror_mode": {
    "name": "ipython",
    "version": 3
   },
   "file_extension": ".py",
   "mimetype": "text/x-python",
   "name": "python",
   "nbconvert_exporter": "python",
   "pygments_lexer": "ipython3",
   "version": "3.13.1"
  }
 },
 "nbformat": 4,
 "nbformat_minor": 5
}
