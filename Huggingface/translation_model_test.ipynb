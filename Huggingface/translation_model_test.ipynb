{
 "cells": [
  {
   "cell_type": "code",
   "execution_count": 1,
   "id": "b91f855c-c17f-46b7-aee9-19dc773bf8d6",
   "metadata": {},
   "outputs": [],
   "source": [
    "from transformers import pipeline"
   ]
  },
  {
   "cell_type": "code",
   "execution_count": 2,
   "id": "8fb2b7cf-b7b6-453c-82c9-dfcdf950441b",
   "metadata": {},
   "outputs": [
    {
     "name": "stderr",
     "output_type": "stream",
     "text": [
      "Device set to use cpu\n"
     ]
    }
   ],
   "source": [
    "chatbot = pipeline(\"text2text-generation\", model=\"facebook/blenderbot_small-90M\")"
   ]
  },
  {
   "cell_type": "code",
   "execution_count": 3,
   "id": "dcf03804-96d6-4a64-ba8c-71a55232f05c",
   "metadata": {},
   "outputs": [],
   "source": [
    "user_message=\"\"\"\n",
    "What are some fun activities i can do in the winter?\n",
    "\"\"\""
   ]
  },
  {
   "cell_type": "code",
   "execution_count": 4,
   "id": "28e47a55-9216-4c1f-b38f-50e9528041d3",
   "metadata": {},
   "outputs": [
    {
     "name": "stdout",
     "output_type": "stream",
     "text": [
      "[{'generated_text': 'what kind of activities do you like to do in the winter ? i like to go hiking .'}]\n"
     ]
    }
   ],
   "source": [
    "conversation = chatbot(user_message)\n",
    "print(conversation)"
   ]
  },
  {
   "cell_type": "code",
   "execution_count": 5,
   "id": "b88808ae-10af-4e88-9e18-7e40c3752d2e",
   "metadata": {},
   "outputs": [
    {
     "name": "stdout",
     "output_type": "stream",
     "text": [
      "[{'generated_text': \"i ' m a big fan of the beatles . they ' re one of my favorite bands .\"}]\n"
     ]
    }
   ],
   "source": [
    "print(chatbot(\"waht else do you like?\"))"
   ]
  },
  {
   "cell_type": "code",
   "execution_count": 6,
   "id": "312f7f94-ae63-449c-9b32-9c1f70434133",
   "metadata": {},
   "outputs": [],
   "source": [
    "import torch"
   ]
  },
  {
   "cell_type": "code",
   "execution_count": 7,
   "id": "f10628d4-5e52-44ce-b39f-7c3c1e4cb353",
   "metadata": {},
   "outputs": [
    {
     "data": {
      "application/vnd.jupyter.widget-view+json": {
       "model_id": "9cd8e12fac044e3fb7558c24bc81139c",
       "version_major": 2,
       "version_minor": 0
      },
      "text/plain": [
       "source.spm:   0%|          | 0.00/806k [00:00<?, ?B/s]"
      ]
     },
     "metadata": {},
     "output_type": "display_data"
    },
    {
     "data": {
      "application/vnd.jupyter.widget-view+json": {
       "model_id": "812513f8942f403489bf595007954b4a",
       "version_major": 2,
       "version_minor": 0
      },
      "text/plain": [
       "target.spm:   0%|          | 0.00/805k [00:00<?, ?B/s]"
      ]
     },
     "metadata": {},
     "output_type": "display_data"
    },
    {
     "data": {
      "application/vnd.jupyter.widget-view+json": {
       "model_id": "864f0af77b504d94949d43fcd5b40732",
       "version_major": 2,
       "version_minor": 0
      },
      "text/plain": [
       "vocab.json:   0%|          | 0.00/1.62M [00:00<?, ?B/s]"
      ]
     },
     "metadata": {},
     "output_type": "display_data"
    },
    {
     "name": "stderr",
     "output_type": "stream",
     "text": [
      "D:\\anaconda3\\envs\\bo\\Lib\\site-packages\\transformers\\models\\marian\\tokenization_marian.py:175: UserWarning: Recommended: pip install sacremoses.\n",
      "  warnings.warn(\"Recommended: pip install sacremoses.\")\n",
      "Device set to use cpu\n"
     ]
    }
   ],
   "source": [
    "# Use a pipeline as a high-level helper\n",
    "from transformers import pipeline\n",
    "pipe = pipeline(\"translation\", model=\"Helsinki-NLP/opus-mt-en-zh\")"
   ]
  },
  {
   "cell_type": "code",
   "execution_count": 14,
   "id": "4f7de7f4-765c-45cd-a70b-e44c453cfe2e",
   "metadata": {},
   "outputs": [
    {
     "name": "stdout",
     "output_type": "stream",
     "text": [
      "[{'translation_text': '我喜欢你 但我不爱你!'}]\n"
     ]
    }
   ],
   "source": [
    "text = \"\"\"\n",
    "I like you , but i don't love you!\n",
    "\"\"\"\n",
    "\n",
    "text_translate = pipe(text, src_lang=\"eng\", tgt_lang=\"chn\")\n",
    "print(text_translate)"
   ]
  },
  {
   "cell_type": "code",
   "execution_count": null,
   "id": "124dec4f-fb1d-41ef-a71a-01cc9af997d8",
   "metadata": {},
   "outputs": [],
   "source": []
  }
 ],
 "metadata": {
  "kernelspec": {
   "display_name": "bo_kernel",
   "language": "python",
   "name": "bo_kernel"
  },
  "language_info": {
   "codemirror_mode": {
    "name": "ipython",
    "version": 3
   },
   "file_extension": ".py",
   "mimetype": "text/x-python",
   "name": "python",
   "nbconvert_exporter": "python",
   "pygments_lexer": "ipython3",
   "version": "3.13.1"
  }
 },
 "nbformat": 4,
 "nbformat_minor": 5
}
